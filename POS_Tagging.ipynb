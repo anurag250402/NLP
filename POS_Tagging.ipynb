{
  "nbformat": 4,
  "nbformat_minor": 0,
  "metadata": {
    "colab": {
      "provenance": []
    },
    "kernelspec": {
      "name": "python3",
      "display_name": "Python 3"
    },
    "language_info": {
      "name": "python"
    }
  },
  "cells": [
    {
      "cell_type": "code",
      "execution_count": null,
      "metadata": {
        "id": "GthZwV9fbLkU"
      },
      "outputs": [],
      "source": [
        "## stopwords\n",
        "\n",
        "paragraph= '''Dream, dream, dream. Dreams transform into thoughts, and thoughts result in action. When you dream, you have to dream big. Your dream will give you direction.\n",
        "Your goal will give you the energy to take action.\n",
        "If you see the glory of the country, if you see the beauty of our civilization, if you see our heritage, if you see the progress we’ve made, and then you see the future, it will give you immense energy.\n",
        "We need you to take up the responsibility of transforming this nation into a developed nation.\n",
        "\n",
        "The key factor for you to succeed is the education you receive, the attitude you develop, and the vision you have.\n",
        "You should have a vision, a roadmap for your life. What is your aim? It should not be just a career, it should be a mission in life.\n",
        "You should be driven by values and the will to serve society, which should be the essence of your life.\n",
        "\n",
        "A developed nation is a result of a commitment from its citizens.\n",
        "It is a nation of people who will always dream, always act, and always give their best.\n",
        "India should be a place where citizens believe in their ability to bring about change.\n",
        "We need young people like you to take the responsibility of making that change happen.\"\n",
        "\n",
        "\"To succeed in life and achieve results, you must understand and master the three essential components: Knowledge, Wisdom, and Human Values.\n",
        "Each of these helps in transforming your thoughts, actions, and success.\n",
        "Knowledge helps you understand the world around you, wisdom helps you make the right choices, and human values help you become a person who can serve others.\"\n",
        "\n",
        "\"India will be a developed nation only if we work together to build a strong foundation of creativity, innovation, and commitment.'''\n"
      ]
    },
    {
      "cell_type": "code",
      "source": [
        "import nltk\n",
        "nltk.download('punkt_tab')"
      ],
      "metadata": {
        "colab": {
          "base_uri": "https://localhost:8080/"
        },
        "id": "Uk3QS6Qle-oS",
        "outputId": "e217b957-e63a-4855-9dd2-48994acfe886"
      },
      "execution_count": null,
      "outputs": [
        {
          "output_type": "stream",
          "name": "stderr",
          "text": [
            "[nltk_data] Downloading package punkt_tab to /root/nltk_data...\n",
            "[nltk_data]   Unzipping tokenizers/punkt_tab.zip.\n"
          ]
        },
        {
          "output_type": "execute_result",
          "data": {
            "text/plain": [
              "True"
            ]
          },
          "metadata": {},
          "execution_count": 11
        }
      ]
    },
    {
      "cell_type": "code",
      "source": [
        "import nltk\n",
        "from nltk.tokenize import sent_tokenize\n",
        "sentences=nltk.sent_tokenize(paragraph)"
      ],
      "metadata": {
        "id": "nf_KunVTdAhk"
      },
      "execution_count": null,
      "outputs": []
    },
    {
      "cell_type": "code",
      "source": [
        "sentences"
      ],
      "metadata": {
        "colab": {
          "base_uri": "https://localhost:8080/"
        },
        "id": "WPr1GMkWdDPR",
        "outputId": "a8a0aeca-f3a8-4f5d-c420-76b2ca578f4a"
      },
      "execution_count": null,
      "outputs": [
        {
          "output_type": "execute_result",
          "data": {
            "text/plain": [
              "['Dream, dream, dream.',\n",
              " 'Dreams transform into thoughts, and thoughts result in action.',\n",
              " 'When you dream, you have to dream big.',\n",
              " 'Your dream will give you direction.',\n",
              " 'Your goal will give you the energy to take action.',\n",
              " 'If you see the glory of the country, if you see the beauty of our civilization, if you see our heritage, if you see the progress we’ve made, and then you see the future, it will give you immense energy.',\n",
              " 'We need you to take up the responsibility of transforming this nation into a developed nation.',\n",
              " 'The key factor for you to succeed is the education you receive, the attitude you develop, and the vision you have.',\n",
              " 'You should have a vision, a roadmap for your life.',\n",
              " 'What is your aim?',\n",
              " 'It should not be just a career, it should be a mission in life.',\n",
              " 'You should be driven by values and the will to serve society, which should be the essence of your life.',\n",
              " 'A developed nation is a result of a commitment from its citizens.',\n",
              " 'It is a nation of people who will always dream, always act, and always give their best.',\n",
              " 'India should be a place where citizens believe in their ability to bring about change.',\n",
              " 'We need young people like you to take the responsibility of making that change happen.\"',\n",
              " '\"To succeed in life and achieve results, you must understand and master the three essential components: Knowledge, Wisdom, and Human Values.',\n",
              " 'Each of these helps in transforming your thoughts, actions, and success.',\n",
              " 'Knowledge helps you understand the world around you, wisdom helps you make the right choices, and human values help you become a person who can serve others.\"',\n",
              " '\"India will be a developed nation only if we work together to build a strong foundation of creativity, innovation, and commitment.']"
            ]
          },
          "metadata": {},
          "execution_count": 13
        }
      ]
    },
    {
      "cell_type": "code",
      "source": [
        "import nltk\n",
        "nltk.download('stopwords')\n",
        "nltk.download('averaged_perceptron_tagger_eng')"
      ],
      "metadata": {
        "colab": {
          "base_uri": "https://localhost:8080/"
        },
        "id": "zm01ia6TnGyQ",
        "outputId": "562187f7-285b-4871-e8da-71ef21343ba0"
      },
      "execution_count": null,
      "outputs": [
        {
          "output_type": "stream",
          "name": "stderr",
          "text": [
            "[nltk_data] Downloading package stopwords to /root/nltk_data...\n",
            "[nltk_data]   Package stopwords is already up-to-date!\n",
            "[nltk_data] Downloading package averaged_perceptron_tagger_eng to\n",
            "[nltk_data]     /root/nltk_data...\n",
            "[nltk_data]   Unzipping taggers/averaged_perceptron_tagger_eng.zip.\n"
          ]
        },
        {
          "output_type": "execute_result",
          "data": {
            "text/plain": [
              "True"
            ]
          },
          "metadata": {},
          "execution_count": 20
        }
      ]
    },
    {
      "cell_type": "code",
      "source": [
        "from nltk.corpus import stopwords"
      ],
      "metadata": {
        "id": "wlrmui99fv39"
      },
      "execution_count": null,
      "outputs": []
    },
    {
      "cell_type": "code",
      "source": [
        "# we will find the pos tags\n",
        "\n",
        "for i in range(len(sentences)):\n",
        "  words=nltk.word_tokenize(sentences[i])\n",
        "  words=[word for word in words if word not in set(stopwords.words('english'))]\n",
        "  #sentences[i]=' '.join(words)\n",
        "  pos_tag=nltk.pos_tag(words)\n",
        "  print(pos_tag)"
      ],
      "metadata": {
        "colab": {
          "base_uri": "https://localhost:8080/"
        },
        "id": "Mb-ufOxKe9cJ",
        "outputId": "64b90625-ffc6-42be-f02b-89bcd59beaa6"
      },
      "execution_count": null,
      "outputs": [
        {
          "output_type": "stream",
          "name": "stdout",
          "text": [
            "[('Dream', 'NN'), (',', ','), ('dream', 'NN'), (',', ','), ('dream', 'NN'), ('.', '.')]\n",
            "[('Dreams', 'NNP'), ('transform', 'NN'), ('thoughts', 'NNS'), (',', ','), ('thoughts', 'NNS'), ('result', 'VBP'), ('action', 'NN'), ('.', '.')]\n",
            "[('When', 'WRB'), ('dream', 'NN'), (',', ','), ('dream', 'NN'), ('big', 'JJ'), ('.', '.')]\n",
            "[('Your', 'PRP$'), ('dream', 'NN'), ('give', 'JJ'), ('direction', 'NN'), ('.', '.')]\n",
            "[('Your', 'PRP$'), ('goal', 'NN'), ('give', 'VB'), ('energy', 'NN'), ('take', 'VB'), ('action', 'NN'), ('.', '.')]\n",
            "[('If', 'IN'), ('see', 'VBN'), ('glory', 'JJ'), ('country', 'NN'), (',', ','), ('see', 'VBP'), ('beauty', 'JJ'), ('civilization', 'NN'), (',', ','), ('see', 'VBP'), ('heritage', 'NN'), (',', ','), ('see', 'VBP'), ('progress', 'JJ'), ('’', 'NNP'), ('made', 'VBD'), (',', ','), ('see', 'VB'), ('future', 'JJ'), (',', ','), ('give', 'JJ'), ('immense', 'NN'), ('energy', 'NN'), ('.', '.')]\n",
            "[('We', 'PRP'), ('need', 'VBP'), ('take', 'VB'), ('responsibility', 'NN'), ('transforming', 'VBG'), ('nation', 'NN'), ('developed', 'VBD'), ('nation', 'NN'), ('.', '.')]\n",
            "[('The', 'DT'), ('key', 'JJ'), ('factor', 'NN'), ('succeed', 'VB'), ('education', 'NN'), ('receive', 'NN'), (',', ','), ('attitude', 'NN'), ('develop', 'NN'), (',', ','), ('vision', 'NN'), ('.', '.')]\n",
            "[('You', 'PRP'), ('vision', 'NN'), (',', ','), ('roadmap', 'JJ'), ('life', 'NN'), ('.', '.')]\n",
            "[('What', 'WP'), ('aim', 'NN'), ('?', '.')]\n",
            "[('It', 'PRP'), ('career', 'NN'), (',', ','), ('mission', 'NN'), ('life', 'NN'), ('.', '.')]\n",
            "[('You', 'PRP'), ('driven', 'VBP'), ('values', 'NNS'), ('serve', 'VBP'), ('society', 'NN'), (',', ','), ('essence', 'NN'), ('life', 'NN'), ('.', '.')]\n",
            "[('A', 'DT'), ('developed', 'JJ'), ('nation', 'NN'), ('result', 'NN'), ('commitment', 'NN'), ('citizens', 'NNS'), ('.', '.')]\n",
            "[('It', 'PRP'), ('nation', 'NN'), ('people', 'NNS'), ('always', 'RB'), ('dream', 'VBP'), (',', ','), ('always', 'RB'), ('act', 'NN'), (',', ','), ('always', 'RB'), ('give', 'VBP'), ('best', 'JJS'), ('.', '.')]\n",
            "[('India', 'NNP'), ('place', 'NN'), ('citizens', 'NNS'), ('believe', 'VBP'), ('ability', 'NN'), ('bring', 'NN'), ('change', 'NN'), ('.', '.')]\n",
            "[('We', 'PRP'), ('need', 'VBP'), ('young', 'JJ'), ('people', 'NNS'), ('like', 'IN'), ('take', 'VBP'), ('responsibility', 'NN'), ('making', 'NN'), ('change', 'NN'), ('happen', 'VB'), ('.', '.'), (\"''\", \"''\")]\n",
            "[('``', '``'), ('To', 'TO'), ('succeed', 'VB'), ('life', 'NN'), ('achieve', 'JJ'), ('results', 'NNS'), (',', ','), ('must', 'MD'), ('understand', 'VB'), ('master', 'NN'), ('three', 'CD'), ('essential', 'JJ'), ('components', 'NNS'), (':', ':'), ('Knowledge', 'NNP'), (',', ','), ('Wisdom', 'NNP'), (',', ','), ('Human', 'NNP'), ('Values', 'NNP'), ('.', '.')]\n",
            "[('Each', 'DT'), ('helps', 'VBZ'), ('transforming', 'VBG'), ('thoughts', 'NNS'), (',', ','), ('actions', 'NNS'), (',', ','), ('success', 'NN'), ('.', '.')]\n",
            "[('Knowledge', 'NNP'), ('helps', 'VBZ'), ('understand', 'VB'), ('world', 'NN'), ('around', 'IN'), (',', ','), ('wisdom', 'NN'), ('helps', 'NNS'), ('make', 'VB'), ('right', 'JJ'), ('choices', 'NNS'), (',', ','), ('human', 'JJ'), ('values', 'NNS'), ('help', 'VBP'), ('become', 'VB'), ('person', 'NN'), ('serve', 'JJ'), ('others', 'NNS'), ('.', '.'), (\"''\", \"''\")]\n",
            "[('``', '``'), ('India', 'NNP'), ('developed', 'VBD'), ('nation', 'NN'), ('work', 'NN'), ('together', 'RB'), ('build', 'VB'), ('strong', 'JJ'), ('foundation', 'NN'), ('creativity', 'NN'), (',', ','), ('innovation', 'NN'), (',', ','), ('commitment', 'NN'), ('.', '.')]\n"
          ]
        }
      ]
    },
    {
      "cell_type": "code",
      "source": [
        "'Taj Mahal is a beautiful monument'.split()"
      ],
      "metadata": {
        "colab": {
          "base_uri": "https://localhost:8080/"
        },
        "id": "lm709mW_nrmK",
        "outputId": "ff331b00-93e4-4111-9499-6f2e652d8884"
      },
      "execution_count": null,
      "outputs": [
        {
          "output_type": "execute_result",
          "data": {
            "text/plain": [
              "['Taj', 'Mahal', 'is', 'a', 'beautiful', 'monument']"
            ]
          },
          "metadata": {},
          "execution_count": 30
        }
      ]
    },
    {
      "cell_type": "code",
      "source": [
        "for word in 'Taj Mahal is a beautiful monument'.split():\n",
        "  print(nltk.pos_tag([word]))"
      ],
      "metadata": {
        "colab": {
          "base_uri": "https://localhost:8080/"
        },
        "id": "2Tose3kWoiZj",
        "outputId": "1575cc7f-dc71-4647-da74-e367c91bcc6f"
      },
      "execution_count": null,
      "outputs": [
        {
          "output_type": "stream",
          "name": "stdout",
          "text": [
            "[('Taj', 'NN')]\n",
            "[('Mahal', 'NN')]\n",
            "[('is', 'VBZ')]\n",
            "[('a', 'DT')]\n",
            "[('beautiful', 'NN')]\n",
            "[('monument', 'NN')]\n"
          ]
        }
      ]
    },
    {
      "cell_type": "code",
      "source": [
        "## Named Entity Recognition\n",
        "sentence=\"Construction of the Eiffel Tower began in January 1887 and was completed in March 1889, taking just over two years to finish. At 330 meters (1,083 feet) tall, it was the tallest man-made structure in the world until the completion of the Chrysler Building in New York City in 1930.\""
      ],
      "metadata": {
        "id": "uJOWNNcMou11"
      },
      "execution_count": null,
      "outputs": []
    },
    {
      "cell_type": "code",
      "source": [
        "import nltk\n",
        "word = nltk.word_tokenize(sentence)"
      ],
      "metadata": {
        "colab": {
          "base_uri": "https://localhost:8080/"
        },
        "id": "u27YnXQnphKQ",
        "outputId": "110fb43b-5e3a-4ae5-e7e6-5c9dbabe0faf"
      },
      "execution_count": null,
      "outputs": [
        {
          "output_type": "execute_result",
          "data": {
            "text/plain": [
              "['Construction',\n",
              " 'of',\n",
              " 'the',\n",
              " 'Eiffel',\n",
              " 'Tower',\n",
              " 'began',\n",
              " 'in',\n",
              " 'January',\n",
              " '1887',\n",
              " 'and',\n",
              " 'was',\n",
              " 'completed',\n",
              " 'in',\n",
              " 'March',\n",
              " '1889',\n",
              " ',',\n",
              " 'taking',\n",
              " 'just',\n",
              " 'over',\n",
              " 'two',\n",
              " 'years',\n",
              " 'to',\n",
              " 'finish',\n",
              " '.',\n",
              " 'At',\n",
              " '330',\n",
              " 'meters',\n",
              " '(',\n",
              " '1,083',\n",
              " 'feet',\n",
              " ')',\n",
              " 'tall',\n",
              " ',',\n",
              " 'it',\n",
              " 'was',\n",
              " 'the',\n",
              " 'tallest',\n",
              " 'man-made',\n",
              " 'structure',\n",
              " 'in',\n",
              " 'the',\n",
              " 'world',\n",
              " 'until',\n",
              " 'the',\n",
              " 'completion',\n",
              " 'of',\n",
              " 'the',\n",
              " 'Chrysler',\n",
              " 'Building',\n",
              " 'in',\n",
              " 'New',\n",
              " 'York',\n",
              " 'City',\n",
              " 'in',\n",
              " '1930',\n",
              " '.']"
            ]
          },
          "metadata": {},
          "execution_count": 34
        }
      ]
    },
    {
      "cell_type": "code",
      "source": [
        "tag_elements = nltk.pos_tag(words)"
      ],
      "metadata": {
        "id": "_3gqR_1Rp-Oq"
      },
      "execution_count": null,
      "outputs": []
    },
    {
      "cell_type": "code",
      "source": [
        "import nltk\n",
        "nltk.download('maxent_ne_chunker_tab')\n",
        "nltk.download('words')"
      ],
      "metadata": {
        "colab": {
          "base_uri": "https://localhost:8080/"
        },
        "id": "VhTWTbxhqSCY",
        "outputId": "593cdd76-8873-427d-d9ea-c135990bb32b"
      },
      "execution_count": null,
      "outputs": [
        {
          "output_type": "stream",
          "name": "stderr",
          "text": [
            "[nltk_data] Downloading package maxent_ne_chunker_tab to\n",
            "[nltk_data]     /root/nltk_data...\n",
            "[nltk_data]   Unzipping chunkers/maxent_ne_chunker_tab.zip.\n",
            "[nltk_data] Downloading package words to /root/nltk_data...\n",
            "[nltk_data]   Package words is already up-to-date!\n"
          ]
        },
        {
          "output_type": "execute_result",
          "data": {
            "text/plain": [
              "True"
            ]
          },
          "metadata": {},
          "execution_count": 41
        }
      ]
    },
    {
      "cell_type": "code",
      "source": [
        "nltk.ne_chunk(tag_elements).draw()"
      ],
      "metadata": {
        "colab": {
          "base_uri": "https://localhost:8080/",
          "height": 321
        },
        "id": "MKy3Wk5qqYDx",
        "outputId": "dee27a79-6342-47ed-bbd8-b86bd6d29e43"
      },
      "execution_count": null,
      "outputs": [
        {
          "output_type": "error",
          "ename": "TclError",
          "evalue": "no display name and no $DISPLAY environment variable",
          "traceback": [
            "\u001b[0;31m---------------------------------------------------------------------------\u001b[0m",
            "\u001b[0;31mTclError\u001b[0m                                  Traceback (most recent call last)",
            "\u001b[0;32m<ipython-input-42-bbdad5f7ef3a>\u001b[0m in \u001b[0;36m<cell line: 0>\u001b[0;34m()\u001b[0m\n\u001b[0;32m----> 1\u001b[0;31m \u001b[0mnltk\u001b[0m\u001b[0;34m.\u001b[0m\u001b[0mne_chunk\u001b[0m\u001b[0;34m(\u001b[0m\u001b[0mtag_elements\u001b[0m\u001b[0;34m)\u001b[0m\u001b[0;34m.\u001b[0m\u001b[0mdraw\u001b[0m\u001b[0;34m(\u001b[0m\u001b[0;34m)\u001b[0m\u001b[0;34m\u001b[0m\u001b[0;34m\u001b[0m\u001b[0m\n\u001b[0m",
            "\u001b[0;32m/usr/local/lib/python3.11/dist-packages/nltk/tree/tree.py\u001b[0m in \u001b[0;36mdraw\u001b[0;34m(self)\u001b[0m\n\u001b[1;32m    759\u001b[0m         \u001b[0;32mfrom\u001b[0m \u001b[0mnltk\u001b[0m\u001b[0;34m.\u001b[0m\u001b[0mdraw\u001b[0m\u001b[0;34m.\u001b[0m\u001b[0mtree\u001b[0m \u001b[0;32mimport\u001b[0m \u001b[0mdraw_trees\u001b[0m\u001b[0;34m\u001b[0m\u001b[0;34m\u001b[0m\u001b[0m\n\u001b[1;32m    760\u001b[0m \u001b[0;34m\u001b[0m\u001b[0m\n\u001b[0;32m--> 761\u001b[0;31m         \u001b[0mdraw_trees\u001b[0m\u001b[0;34m(\u001b[0m\u001b[0mself\u001b[0m\u001b[0;34m)\u001b[0m\u001b[0;34m\u001b[0m\u001b[0;34m\u001b[0m\u001b[0m\n\u001b[0m\u001b[1;32m    762\u001b[0m \u001b[0;34m\u001b[0m\u001b[0m\n\u001b[1;32m    763\u001b[0m     \u001b[0;32mdef\u001b[0m \u001b[0mpretty_print\u001b[0m\u001b[0;34m(\u001b[0m\u001b[0mself\u001b[0m\u001b[0;34m,\u001b[0m \u001b[0msentence\u001b[0m\u001b[0;34m=\u001b[0m\u001b[0;32mNone\u001b[0m\u001b[0;34m,\u001b[0m \u001b[0mhighlight\u001b[0m\u001b[0;34m=\u001b[0m\u001b[0;34m(\u001b[0m\u001b[0;34m)\u001b[0m\u001b[0;34m,\u001b[0m \u001b[0mstream\u001b[0m\u001b[0;34m=\u001b[0m\u001b[0;32mNone\u001b[0m\u001b[0;34m,\u001b[0m \u001b[0;34m**\u001b[0m\u001b[0mkwargs\u001b[0m\u001b[0;34m)\u001b[0m\u001b[0;34m:\u001b[0m\u001b[0;34m\u001b[0m\u001b[0;34m\u001b[0m\u001b[0m\n",
            "\u001b[0;32m/usr/local/lib/python3.11/dist-packages/nltk/draw/tree.py\u001b[0m in \u001b[0;36mdraw_trees\u001b[0;34m(*trees)\u001b[0m\n\u001b[1;32m   1006\u001b[0m     \u001b[0;34m:\u001b[0m\u001b[0mrtype\u001b[0m\u001b[0;34m:\u001b[0m \u001b[0;32mNone\u001b[0m\u001b[0;34m\u001b[0m\u001b[0;34m\u001b[0m\u001b[0m\n\u001b[1;32m   1007\u001b[0m     \"\"\"\n\u001b[0;32m-> 1008\u001b[0;31m     \u001b[0mTreeView\u001b[0m\u001b[0;34m(\u001b[0m\u001b[0;34m*\u001b[0m\u001b[0mtrees\u001b[0m\u001b[0;34m)\u001b[0m\u001b[0;34m.\u001b[0m\u001b[0mmainloop\u001b[0m\u001b[0;34m(\u001b[0m\u001b[0;34m)\u001b[0m\u001b[0;34m\u001b[0m\u001b[0;34m\u001b[0m\u001b[0m\n\u001b[0m\u001b[1;32m   1009\u001b[0m     \u001b[0;32mreturn\u001b[0m\u001b[0;34m\u001b[0m\u001b[0;34m\u001b[0m\u001b[0m\n\u001b[1;32m   1010\u001b[0m \u001b[0;34m\u001b[0m\u001b[0m\n",
            "\u001b[0;32m/usr/local/lib/python3.11/dist-packages/nltk/draw/tree.py\u001b[0m in \u001b[0;36m__init__\u001b[0;34m(self, *trees)\u001b[0m\n\u001b[1;32m    857\u001b[0m         \u001b[0mself\u001b[0m\u001b[0;34m.\u001b[0m\u001b[0m_trees\u001b[0m \u001b[0;34m=\u001b[0m \u001b[0mtrees\u001b[0m\u001b[0;34m\u001b[0m\u001b[0;34m\u001b[0m\u001b[0m\n\u001b[1;32m    858\u001b[0m \u001b[0;34m\u001b[0m\u001b[0m\n\u001b[0;32m--> 859\u001b[0;31m         \u001b[0mself\u001b[0m\u001b[0;34m.\u001b[0m\u001b[0m_top\u001b[0m \u001b[0;34m=\u001b[0m \u001b[0mTk\u001b[0m\u001b[0;34m(\u001b[0m\u001b[0;34m)\u001b[0m\u001b[0;34m\u001b[0m\u001b[0;34m\u001b[0m\u001b[0m\n\u001b[0m\u001b[1;32m    860\u001b[0m         \u001b[0mself\u001b[0m\u001b[0;34m.\u001b[0m\u001b[0m_top\u001b[0m\u001b[0;34m.\u001b[0m\u001b[0mtitle\u001b[0m\u001b[0;34m(\u001b[0m\u001b[0;34m\"NLTK\"\u001b[0m\u001b[0;34m)\u001b[0m\u001b[0;34m\u001b[0m\u001b[0;34m\u001b[0m\u001b[0m\n\u001b[1;32m    861\u001b[0m         \u001b[0mself\u001b[0m\u001b[0;34m.\u001b[0m\u001b[0m_top\u001b[0m\u001b[0;34m.\u001b[0m\u001b[0mbind\u001b[0m\u001b[0;34m(\u001b[0m\u001b[0;34m\"<Control-x>\"\u001b[0m\u001b[0;34m,\u001b[0m \u001b[0mself\u001b[0m\u001b[0;34m.\u001b[0m\u001b[0mdestroy\u001b[0m\u001b[0;34m)\u001b[0m\u001b[0;34m\u001b[0m\u001b[0;34m\u001b[0m\u001b[0m\n",
            "\u001b[0;32m/usr/lib/python3.11/tkinter/__init__.py\u001b[0m in \u001b[0;36m__init__\u001b[0;34m(self, screenName, baseName, className, useTk, sync, use)\u001b[0m\n\u001b[1;32m   2324\u001b[0m                 \u001b[0mbaseName\u001b[0m \u001b[0;34m=\u001b[0m \u001b[0mbaseName\u001b[0m \u001b[0;34m+\u001b[0m \u001b[0mext\u001b[0m\u001b[0;34m\u001b[0m\u001b[0;34m\u001b[0m\u001b[0m\n\u001b[1;32m   2325\u001b[0m         \u001b[0minteractive\u001b[0m \u001b[0;34m=\u001b[0m \u001b[0;32mFalse\u001b[0m\u001b[0;34m\u001b[0m\u001b[0;34m\u001b[0m\u001b[0m\n\u001b[0;32m-> 2326\u001b[0;31m         \u001b[0mself\u001b[0m\u001b[0;34m.\u001b[0m\u001b[0mtk\u001b[0m \u001b[0;34m=\u001b[0m \u001b[0m_tkinter\u001b[0m\u001b[0;34m.\u001b[0m\u001b[0mcreate\u001b[0m\u001b[0;34m(\u001b[0m\u001b[0mscreenName\u001b[0m\u001b[0;34m,\u001b[0m \u001b[0mbaseName\u001b[0m\u001b[0;34m,\u001b[0m \u001b[0mclassName\u001b[0m\u001b[0;34m,\u001b[0m \u001b[0minteractive\u001b[0m\u001b[0;34m,\u001b[0m \u001b[0mwantobjects\u001b[0m\u001b[0;34m,\u001b[0m \u001b[0museTk\u001b[0m\u001b[0;34m,\u001b[0m \u001b[0msync\u001b[0m\u001b[0;34m,\u001b[0m \u001b[0muse\u001b[0m\u001b[0;34m)\u001b[0m\u001b[0;34m\u001b[0m\u001b[0;34m\u001b[0m\u001b[0m\n\u001b[0m\u001b[1;32m   2327\u001b[0m         \u001b[0;32mif\u001b[0m \u001b[0museTk\u001b[0m\u001b[0;34m:\u001b[0m\u001b[0;34m\u001b[0m\u001b[0;34m\u001b[0m\u001b[0m\n\u001b[1;32m   2328\u001b[0m             \u001b[0mself\u001b[0m\u001b[0;34m.\u001b[0m\u001b[0m_loadtk\u001b[0m\u001b[0;34m(\u001b[0m\u001b[0;34m)\u001b[0m\u001b[0;34m\u001b[0m\u001b[0;34m\u001b[0m\u001b[0m\n",
            "\u001b[0;31mTclError\u001b[0m: no display name and no $DISPLAY environment variable"
          ]
        }
      ]
    },
    {
      "cell_type": "code",
      "source": [],
      "metadata": {
        "id": "1Y23Bcd6qhOu"
      },
      "execution_count": null,
      "outputs": []
    }
  ]
}